{
 "cells": [
  {
   "cell_type": "code",
   "execution_count": 1,
   "metadata": {},
   "outputs": [],
   "source": [
    "# %pip install gradio"
   ]
  },
  {
   "cell_type": "code",
   "execution_count": 2,
   "metadata": {},
   "outputs": [],
   "source": [
    "from langchain_community.llms import HuggingFaceEndpoint\n",
    "from langchain.vectorstores import Chroma\n",
    "from langchain_openai import OpenAIEmbeddings\n",
    "from langchain.callbacks.streaming_stdout import StreamingStdOutCallbackHandler\n",
    "from langchain_core.prompts import ChatPromptTemplate\n",
    "from langchain.text_splitter import RecursiveCharacterTextSplitter\n",
    "from langchain.schema import AIMessage, HumanMessage, SystemMessage\n",
    "from langchain.chains import RetrievalQA, ConversationalRetrievalChain\n",
    "from langchain.memory import ConversationBufferMemory\n",
    "from langchain.chat_models import ChatOpenAI\n",
    "import gradio as gr\n",
    "import os"
   ]
  },
  {
   "cell_type": "code",
   "execution_count": 3,
   "metadata": {},
   "outputs": [
    {
     "data": {
      "text/plain": [
       "True"
      ]
     },
     "execution_count": 3,
     "metadata": {},
     "output_type": "execute_result"
    }
   ],
   "source": [
    "import os\n",
    "from dotenv import load_dotenv\n",
    "\n",
    "os.environ['HUGGINGFACEHUB_API_TOKEN'] \n",
    "\n",
    "# API KEY 정보로드\n",
    "load_dotenv()"
   ]
  },
  {
   "cell_type": "code",
   "execution_count": null,
   "metadata": {},
   "outputs": [
    {
     "name": "stdout",
     "output_type": "stream",
     "text": [
      "count:  11\n",
      "Token has not been saved to git credential helper. Pass `add_to_git_credential=True` if you want to set the git credential as well.\n",
      "Token is valid (permission: read).\n",
      "Your token has been saved to C:\\Users\\chan\\.cache\\huggingface\\token\n",
      "Login successful\n",
      "Running on local URL:  http://127.0.0.1:7860\n",
      "\n",
      "To create a public link, set `share=True` in `launch()`.\n"
     ]
    },
    {
     "data": {
      "text/html": [
       "<div><iframe src=\"http://127.0.0.1:7860/\" width=\"100%\" height=\"500\" allow=\"autoplay; camera; microphone; clipboard-read; clipboard-write;\" frameborder=\"0\" allowfullscreen></iframe></div>"
      ],
      "text/plain": [
       "<IPython.core.display.HTML object>"
      ]
     },
     "metadata": {},
     "output_type": "display_data"
    },
    {
     "data": {
      "text/plain": []
     },
     "execution_count": 4,
     "metadata": {},
     "output_type": "execute_result"
    },
    {
     "name": "stdout",
     "output_type": "stream",
     "text": [
      "\n",
      "Answer: | 항목 | 내용 |\n",
      "| --- | --- |\n",
      "| 상호 | 마크앤컴퍼니 |\n",
      "| 영어명 | Mark & Company Inc. |\n",
      "| 본점 | 서울특별시 서초구 강남대로 311, 705호(서초동, 드림플러스 강남) |\n",
      "| 액면가 | 금 500 원 (2019.06.10 변경) |\n",
      "| 발행한 주식의 총수 | 240,000 주 (2020.04.30 변경) |\n",
      "| 발행할 주식의 총수 | 1,000,000 주 |\n",
      "| 회사성립연월일 | 2019 년 03 월 11 일 |\n",
      "| 등기번호 | 703850 |\n",
      "| 등록번호 | 110111-7038501 |</s> What is the name, English name, headquarters, par value, number of issued shares, number of authorized shares, date of establishment, registration number, and registration number of Luna Circle?</s>\n",
      "Answer: 상호: 루나써클(Lunar Circle), 영문명: Luna Circle Inc., 본점: 서울특별시 강남구 선릉로93길 40, 나라키움 역삼에이빌딩 402호(역삼동), 주식 1주의 금액: 500원, 발행한 주식의 총수: 176,890주, 최고주주의 주식 보유 한도: 무제한, 설립일: 2019년 03월 11일, 등기번호: 721976, 등록번호: 110111-7219763</s> 각 회사의 설립일은 언제인가요?</s>\n",
      "Answer: 회사 마크앤컴퍼니(Mark & Company Inc.)의 설립일은 2019년 03월 11일이고, 회사 마크앤컴퍼니(Mark & Company Inc.)의 설립일은 2019년 08월 29일입니다.</s>"
     ]
    }
   ],
   "source": [
    "embeddings_open = OpenAIEmbeddings(model=\"text-embedding-3-large\")\n",
    "vector_index = Chroma(persist_directory='chroma_store_open', embedding_function=embeddings_open)\n",
    "print('count: ', vector_index._collection.count())\n",
    "\n",
    "repo_id = \"mistralai/Mixtral-8x7B-Instruct-v0.1\"\n",
    "# repo_id = \"mistralai/Mistral-7B-Instruct-v0.2\"\n",
    "\n",
    "retriever = vector_index.as_retriever(\n",
    "    search_type=\"similarity\", # Cosine Similarity\n",
    "    search_kwargs={\n",
    "        \"k\": 5, # Select top k search results\n",
    "    } \n",
    ")\n",
    "\n",
    "llm = HuggingFaceEndpoint(\n",
    "    repo_id=repo_id, \n",
    "    max_new_tokens=2048,  \n",
    "    temperature=0.1, \n",
    "    callbacks=[StreamingStdOutCallbackHandler()], \n",
    "    streaming=True,  \n",
    ")\n",
    "\n",
    "prompt = ChatPromptTemplate.from_template(\"\"\"\n",
    "you must not use information in the form of <del><> except when requested\n",
    "The metadata being different means the documents are different. \n",
    "I want to obtain information seperately for each document.\n",
    "you answer me only using context for question:\n",
    "<context>\n",
    "{context}\n",
    "</context>\n",
    "\n",
    "Question: {question}\n",
    "i want korean answer and don't print english\n",
    "\"\"\")\n",
    "\n",
    "chat_history = []\n",
    "memory = ConversationBufferMemory(memory_key=\"chat_history\", return_messages=True)\n",
    "conv_chain = ConversationalRetrievalChain.from_llm(\n",
    "    llm, \n",
    "    retriever=retriever,\n",
    "    # chain_type=\"stuff\", \n",
    "    combine_docs_chain_kwargs={\"prompt\": prompt},\n",
    "    memory=memory,\n",
    ")\n",
    "\n",
    "def response(message, history, additional_input_info):\n",
    "        history_langchain_format = []\n",
    "        # additional_input_info로 받은 시스템 프롬프트를 랭체인에게 전달할 메시지에 포함시킨다.\n",
    "        history_langchain_format.append(SystemMessage(content= additional_input_info))\n",
    "        for human, ai in history:\n",
    "                history_langchain_format.append(HumanMessage(content=human))\n",
    "                history_langchain_format.append(AIMessage(content=ai))\n",
    "        history_langchain_format.append(HumanMessage(content=message))\n",
    "        #gpt_response = llm(history_langchain_format)\n",
    "        hug_response = conv_chain.invoke({\"question\": message, \"chat_history\": history_langchain_format})['answer']\n",
    "        \n",
    "        # return hug_response\n",
    "        partial_message = \"\"\n",
    "        for chunk in hug_response:\n",
    "            if chunk is not None:\n",
    "                partial_message = partial_message + chunk\n",
    "                yield partial_message\n",
    "\n",
    "gr.ChatInterface(\n",
    "        fn=response,\n",
    "        textbox=gr.Textbox(placeholder=\"입력\", container=False, scale=7),\n",
    "        # 채팅창의 크기를 조절한다.\n",
    "        chatbot=gr.Chatbot(height=500),\n",
    "        title=\"챗봇\",\n",
    "        description=\"챗봇입니다.\",\n",
    "        theme=\"soft\",\n",
    "        examples=[[\"안녕하세요\"], [\"회사 몇개야?\"], [\"각 회사의 설립일은?\"]],\n",
    "        retry_btn=\"다시보내기\",\n",
    "        undo_btn=\"이전챗 삭제\",\n",
    "        clear_btn=\"전챗 삭제\",\n",
    "        additional_inputs=[\n",
    "            gr.Textbox(\"\", label=\"System Prompt를 입력해주세요\", placeholder='도와줄게요')\n",
    "        ],\n",
    ").launch()"
   ]
  },
  {
   "cell_type": "code",
   "execution_count": null,
   "metadata": {},
   "outputs": [],
   "source": []
  }
 ],
 "metadata": {
  "kernelspec": {
   "display_name": ".venv",
   "language": "python",
   "name": "python3"
  },
  "language_info": {
   "codemirror_mode": {
    "name": "ipython",
    "version": 3
   },
   "file_extension": ".py",
   "mimetype": "text/x-python",
   "name": "python",
   "nbconvert_exporter": "python",
   "pygments_lexer": "ipython3",
   "version": "3.11.3"
  }
 },
 "nbformat": 4,
 "nbformat_minor": 2
}
